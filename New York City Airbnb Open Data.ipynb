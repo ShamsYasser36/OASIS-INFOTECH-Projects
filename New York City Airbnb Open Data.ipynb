{
 "cells": [
  {
   "cell_type": "markdown",
   "id": "3ff643bd-95aa-4fa4-8cc0-e182ab224123",
   "metadata": {},
   "source": [
    "# New York City Airbnb Open Data"
   ]
  },
  {
   "cell_type": "markdown",
   "id": "016c7abd-914e-419b-8e28-cbd8761525ca",
   "metadata": {},
   "source": [
    "# Idea: Cleaning Data"
   ]
  },
  {
   "cell_type": "markdown",
   "id": "42b41be8-0a16-4463-864e-bae65cbe814f",
   "metadata": {},
   "source": [
    "# Description:"
   ]
  },
  {
   "cell_type": "markdown",
   "id": "df2ad9bd-1efc-4373-a382-7948f56c9ce1",
   "metadata": {},
   "source": [
    "Data cleaning is the process of fixing or removing incorrect, corrupted, duplicate, or incomplete\n",
    "data within a dataset. Messy data leads to unreliable outcomes. Cleaning data is an essential\n",
    "part of data analysis, and demonstrating your data cleaning skills is key to landing a job. Here\n",
    "are some projects to test out your data cleaning skills:"
   ]
  },
  {
   "cell_type": "markdown",
   "id": "2c1e4f2f-8ca1-4e1d-b746-d97dfc100244",
   "metadata": {},
   "source": [
    "# Key Concepts and Challenges: "
   ]
  },
  {
   "cell_type": "markdown",
   "id": "fc747d5b-fddf-4eb3-9f0b-c89b50ee9dc9",
   "metadata": {},
   "source": [
    "1.Data Integrity: Ensuring the accuracy, consistency, and reliability of data throughout the\n",
    "cleaning process.\n",
    "\n",
    "2.Missing Data Handling: Dealing with missing values by either imputing them or making\n",
    "informed decisions on how to handle gaps in the dataset.\n",
    "\n",
    "3.Duplicate Removal: Identifying and eliminating duplicate records to maintain data\n",
    "uniqueness.\n",
    "\n",
    "4.Standardization: Consistent formatting and units across the dataset for accurate analysis.\n",
    "\n",
    "5.Outlier Detection: Identifying and addressing outliers that may skew analysis or model\n",
    "performance."
   ]
  },
  {
   "cell_type": "markdown",
   "id": "b964615e-9c72-44d7-9901-21089ab701c0",
   "metadata": {},
   "source": [
    "# Import Libraries "
   ]
  },
  {
   "cell_type": "code",
   "execution_count": 1,
   "id": "3fac693e-e741-4d08-b1c7-21bf0754f289",
   "metadata": {},
   "outputs": [],
   "source": [
    "import pandas as pd\n",
    "import numpy as np\n",
    "import matplotlib.pyplot as plt\n",
    "import seaborn as sns"
   ]
  },
  {
   "cell_type": "markdown",
   "id": "7d4a1dbb-113c-4542-a23b-95366880a36f",
   "metadata": {},
   "source": [
    "# Load Dataset"
   ]
  },
  {
   "cell_type": "code",
   "execution_count": 2,
   "id": "466df1d1-fa8a-49bc-92bc-89a08eab2fa8",
   "metadata": {},
   "outputs": [],
   "source": [
    "df = pd.read_csv('AB_NYC_2019.csv')"
   ]
  },
  {
   "cell_type": "markdown",
   "id": "df55c8c8-b490-4dbc-b273-8da81e644b20",
   "metadata": {},
   "source": [
    "#  Data Integrity"
   ]
  },
  {
   "cell_type": "code",
   "execution_count": 3,
   "id": "5c2f9ba2-5774-4325-8aa1-0834970fbe80",
   "metadata": {},
   "outputs": [
    {
     "name": "stdout",
     "output_type": "stream",
     "text": [
      "             id                                               name   host_id  \\\n",
      "0          2539                 Clean & quiet apt home by the park      2787   \n",
      "1          2595                              Skylit Midtown Castle      2845   \n",
      "2          3647                THE VILLAGE OF HARLEM....NEW YORK !      4632   \n",
      "3          3831                    Cozy Entire Floor of Brownstone      4869   \n",
      "4          5022   Entire Apt: Spacious Studio/Loft by central park      7192   \n",
      "...         ...                                                ...       ...   \n",
      "48890  36484665    Charming one bedroom - newly renovated rowhouse   8232441   \n",
      "48891  36485057      Affordable room in Bushwick/East Williamsburg   6570630   \n",
      "48892  36485431            Sunny Studio at Historical Neighborhood  23492952   \n",
      "48893  36485609               43rd St. Time Square-cozy single bed  30985759   \n",
      "48894  36487245  Trendy duplex in the very heart of Hell's Kitchen  68119814   \n",
      "\n",
      "           host_name neighbourhood_group       neighbourhood  latitude  \\\n",
      "0               John            Brooklyn          Kensington  40.64749   \n",
      "1           Jennifer           Manhattan             Midtown  40.75362   \n",
      "2          Elisabeth           Manhattan              Harlem  40.80902   \n",
      "3        LisaRoxanne            Brooklyn        Clinton Hill  40.68514   \n",
      "4              Laura           Manhattan         East Harlem  40.79851   \n",
      "...              ...                 ...                 ...       ...   \n",
      "48890        Sabrina            Brooklyn  Bedford-Stuyvesant  40.67853   \n",
      "48891        Marisol            Brooklyn            Bushwick  40.70184   \n",
      "48892  Ilgar & Aysel           Manhattan              Harlem  40.81475   \n",
      "48893            Taz           Manhattan      Hell's Kitchen  40.75751   \n",
      "48894     Christophe           Manhattan      Hell's Kitchen  40.76404   \n",
      "\n",
      "       longitude        room_type  price  minimum_nights  number_of_reviews  \\\n",
      "0      -73.97237     Private room    149               1                  9   \n",
      "1      -73.98377  Entire home/apt    225               1                 45   \n",
      "2      -73.94190     Private room    150               3                  0   \n",
      "3      -73.95976  Entire home/apt     89               1                270   \n",
      "4      -73.94399  Entire home/apt     80              10                  9   \n",
      "...          ...              ...    ...             ...                ...   \n",
      "48890  -73.94995     Private room     70               2                  0   \n",
      "48891  -73.93317     Private room     40               4                  0   \n",
      "48892  -73.94867  Entire home/apt    115              10                  0   \n",
      "48893  -73.99112      Shared room     55               1                  0   \n",
      "48894  -73.98933     Private room     90               7                  0   \n",
      "\n",
      "      last_review  reviews_per_month  calculated_host_listings_count  \\\n",
      "0      2018-10-19               0.21                               6   \n",
      "1      2019-05-21               0.38                               2   \n",
      "2             NaN                NaN                               1   \n",
      "3      2019-07-05               4.64                               1   \n",
      "4      2018-11-19               0.10                               1   \n",
      "...           ...                ...                             ...   \n",
      "48890         NaN                NaN                               2   \n",
      "48891         NaN                NaN                               2   \n",
      "48892         NaN                NaN                               1   \n",
      "48893         NaN                NaN                               6   \n",
      "48894         NaN                NaN                               1   \n",
      "\n",
      "       availability_365  \n",
      "0                   365  \n",
      "1                   355  \n",
      "2                   365  \n",
      "3                   194  \n",
      "4                     0  \n",
      "...                 ...  \n",
      "48890                 9  \n",
      "48891                36  \n",
      "48892                27  \n",
      "48893                 2  \n",
      "48894                23  \n",
      "\n",
      "[48895 rows x 16 columns]\n"
     ]
    }
   ],
   "source": [
    "print (df)"
   ]
  },
  {
   "cell_type": "code",
   "execution_count": 4,
   "id": "08b9aedd-dd04-4ec3-b0a2-244c5b56b600",
   "metadata": {},
   "outputs": [
    {
     "name": "stdout",
     "output_type": "stream",
     "text": [
      "     id                                              name  host_id  \\\n",
      "0  2539                Clean & quiet apt home by the park     2787   \n",
      "1  2595                             Skylit Midtown Castle     2845   \n",
      "2  3647               THE VILLAGE OF HARLEM....NEW YORK !     4632   \n",
      "3  3831                   Cozy Entire Floor of Brownstone     4869   \n",
      "4  5022  Entire Apt: Spacious Studio/Loft by central park     7192   \n",
      "\n",
      "     host_name neighbourhood_group neighbourhood  latitude  longitude  \\\n",
      "0         John            Brooklyn    Kensington  40.64749  -73.97237   \n",
      "1     Jennifer           Manhattan       Midtown  40.75362  -73.98377   \n",
      "2    Elisabeth           Manhattan        Harlem  40.80902  -73.94190   \n",
      "3  LisaRoxanne            Brooklyn  Clinton Hill  40.68514  -73.95976   \n",
      "4        Laura           Manhattan   East Harlem  40.79851  -73.94399   \n",
      "\n",
      "         room_type  price  minimum_nights  number_of_reviews last_review  \\\n",
      "0     Private room    149               1                  9  2018-10-19   \n",
      "1  Entire home/apt    225               1                 45  2019-05-21   \n",
      "2     Private room    150               3                  0         NaN   \n",
      "3  Entire home/apt     89               1                270  2019-07-05   \n",
      "4  Entire home/apt     80              10                  9  2018-11-19   \n",
      "\n",
      "   reviews_per_month  calculated_host_listings_count  availability_365  \n",
      "0               0.21                               6               365  \n",
      "1               0.38                               2               355  \n",
      "2                NaN                               1               365  \n",
      "3               4.64                               1               194  \n",
      "4               0.10                               1                 0  \n"
     ]
    }
   ],
   "source": [
    "print(df.head())"
   ]
  },
  {
   "cell_type": "code",
   "execution_count": 5,
   "id": "537c6f25-6e81-42f9-aaba-b4cf96f911e7",
   "metadata": {},
   "outputs": [
    {
     "name": "stdout",
     "output_type": "stream",
     "text": [
      "             id                                               name   host_id  \\\n",
      "48890  36484665    Charming one bedroom - newly renovated rowhouse   8232441   \n",
      "48891  36485057      Affordable room in Bushwick/East Williamsburg   6570630   \n",
      "48892  36485431            Sunny Studio at Historical Neighborhood  23492952   \n",
      "48893  36485609               43rd St. Time Square-cozy single bed  30985759   \n",
      "48894  36487245  Trendy duplex in the very heart of Hell's Kitchen  68119814   \n",
      "\n",
      "           host_name neighbourhood_group       neighbourhood  latitude  \\\n",
      "48890        Sabrina            Brooklyn  Bedford-Stuyvesant  40.67853   \n",
      "48891        Marisol            Brooklyn            Bushwick  40.70184   \n",
      "48892  Ilgar & Aysel           Manhattan              Harlem  40.81475   \n",
      "48893            Taz           Manhattan      Hell's Kitchen  40.75751   \n",
      "48894     Christophe           Manhattan      Hell's Kitchen  40.76404   \n",
      "\n",
      "       longitude        room_type  price  minimum_nights  number_of_reviews  \\\n",
      "48890  -73.94995     Private room     70               2                  0   \n",
      "48891  -73.93317     Private room     40               4                  0   \n",
      "48892  -73.94867  Entire home/apt    115              10                  0   \n",
      "48893  -73.99112      Shared room     55               1                  0   \n",
      "48894  -73.98933     Private room     90               7                  0   \n",
      "\n",
      "      last_review  reviews_per_month  calculated_host_listings_count  \\\n",
      "48890         NaN                NaN                               2   \n",
      "48891         NaN                NaN                               2   \n",
      "48892         NaN                NaN                               1   \n",
      "48893         NaN                NaN                               6   \n",
      "48894         NaN                NaN                               1   \n",
      "\n",
      "       availability_365  \n",
      "48890                 9  \n",
      "48891                36  \n",
      "48892                27  \n",
      "48893                 2  \n",
      "48894                23  \n"
     ]
    }
   ],
   "source": [
    "print(df.tail())"
   ]
  },
  {
   "cell_type": "code",
   "execution_count": 6,
   "id": "675fb865-c9b4-416a-b2c2-e06db2c89b68",
   "metadata": {},
   "outputs": [
    {
     "data": {
      "text/plain": [
       "(48895, 16)"
      ]
     },
     "execution_count": 6,
     "metadata": {},
     "output_type": "execute_result"
    }
   ],
   "source": [
    "df.shape"
   ]
  },
  {
   "cell_type": "code",
   "execution_count": 7,
   "id": "8784f620-be09-4bf3-ad91-81b073f58a27",
   "metadata": {},
   "outputs": [
    {
     "name": "stdout",
     "output_type": "stream",
     "text": [
      "<class 'pandas.core.frame.DataFrame'>\n",
      "RangeIndex: 48895 entries, 0 to 48894\n",
      "Data columns (total 16 columns):\n",
      " #   Column                          Non-Null Count  Dtype  \n",
      "---  ------                          --------------  -----  \n",
      " 0   id                              48895 non-null  int64  \n",
      " 1   name                            48879 non-null  object \n",
      " 2   host_id                         48895 non-null  int64  \n",
      " 3   host_name                       48874 non-null  object \n",
      " 4   neighbourhood_group             48895 non-null  object \n",
      " 5   neighbourhood                   48895 non-null  object \n",
      " 6   latitude                        48895 non-null  float64\n",
      " 7   longitude                       48895 non-null  float64\n",
      " 8   room_type                       48895 non-null  object \n",
      " 9   price                           48895 non-null  int64  \n",
      " 10  minimum_nights                  48895 non-null  int64  \n",
      " 11  number_of_reviews               48895 non-null  int64  \n",
      " 12  last_review                     38843 non-null  object \n",
      " 13  reviews_per_month               38843 non-null  float64\n",
      " 14  calculated_host_listings_count  48895 non-null  int64  \n",
      " 15  availability_365                48895 non-null  int64  \n",
      "dtypes: float64(3), int64(7), object(6)\n",
      "memory usage: 6.0+ MB\n",
      "None\n"
     ]
    }
   ],
   "source": [
    "print(df.info())"
   ]
  },
  {
   "cell_type": "code",
   "execution_count": 8,
   "id": "fbca180e-6302-45c3-abbb-89ce9776e1d1",
   "metadata": {},
   "outputs": [
    {
     "data": {
      "text/plain": [
       "Index(['id', 'name', 'host_id', 'host_name', 'neighbourhood_group',\n",
       "       'neighbourhood', 'latitude', 'longitude', 'room_type', 'price',\n",
       "       'minimum_nights', 'number_of_reviews', 'last_review',\n",
       "       'reviews_per_month', 'calculated_host_listings_count',\n",
       "       'availability_365'],\n",
       "      dtype='object')"
      ]
     },
     "execution_count": 8,
     "metadata": {},
     "output_type": "execute_result"
    }
   ],
   "source": [
    "df.columns"
   ]
  },
  {
   "cell_type": "code",
   "execution_count": 26,
   "id": "dc3c6604-4227-4bea-80e0-2ee55902337b",
   "metadata": {},
   "outputs": [
    {
     "name": "stdout",
     "output_type": "stream",
     "text": [
      "Duplicate host entries:\n",
      "              id                                             name    host_id  \\\n",
      "0          2539               Clean & quiet apt home by the park       2787   \n",
      "1          2595                            Skylit Midtown Castle       2845   \n",
      "9          5238               Cute & Cozy Lower East Side 1 bdrm       7549   \n",
      "12         5803   Lovely Room 1, Garden, Best Area, Legal rental       9744   \n",
      "19         7750                Huge 2 BR Upper East  Cental Park      17985   \n",
      "...         ...                                              ...        ...   \n",
      "48887  36483152  Garden Jewel Apartment in Williamsburg New York  208514239   \n",
      "48889  36484363                               QUIT PRIVATE HOUSE  107716952   \n",
      "48890  36484665  Charming one bedroom - newly renovated rowhouse    8232441   \n",
      "48891  36485057    Affordable room in Bushwick/East Williamsburg    6570630   \n",
      "48893  36485609             43rd St. Time Square-cozy single bed   30985759   \n",
      "\n",
      "      host_name neighbourhood_group       neighbourhood  latitude  longitude  \\\n",
      "0          John            Brooklyn          Kensington  40.64749  -73.97237   \n",
      "1      Jennifer           Manhattan             Midtown  40.75362  -73.98377   \n",
      "9           Ben           Manhattan           Chinatown  40.71344  -73.99037   \n",
      "12       Laurie            Brooklyn         South Slope  40.66829  -73.98779   \n",
      "19         Sing           Manhattan         East Harlem  40.79685  -73.94872   \n",
      "...         ...                 ...                 ...       ...        ...   \n",
      "48887     Melki            Brooklyn        Williamsburg  40.71232  -73.94220   \n",
      "48889   Michael              Queens             Jamaica  40.69137  -73.80844   \n",
      "48890   Sabrina            Brooklyn  Bedford-Stuyvesant  40.67853  -73.94995   \n",
      "48891   Marisol            Brooklyn            Bushwick  40.70184  -73.93317   \n",
      "48893       Taz           Manhattan      Hell's Kitchen  40.75751  -73.99112   \n",
      "\n",
      "             room_type  price  minimum_nights  number_of_reviews last_review  \\\n",
      "0         Private room    149               1                  9  2018-10-19   \n",
      "1      Entire home/apt    225               1                 45  2019-05-21   \n",
      "9      Entire home/apt    150               1                160  2019-06-09   \n",
      "12        Private room     89               4                167  2019-06-24   \n",
      "19     Entire home/apt    190               7                  0  2019-06-23   \n",
      "...                ...    ...             ...                ...         ...   \n",
      "48887  Entire home/apt    170               1                  0  2019-06-23   \n",
      "48889     Private room     65               1                  0  2019-06-23   \n",
      "48890     Private room     70               2                  0  2019-06-23   \n",
      "48891     Private room     40               4                  0  2019-06-23   \n",
      "48893      Shared room     55               1                  0  2019-06-23   \n",
      "\n",
      "       reviews_per_month  calculated_host_listings_count  availability_365  \n",
      "0               0.210000                               6               365  \n",
      "1               0.380000                               2               355  \n",
      "9               1.330000                               4               188  \n",
      "12              1.340000                               3               314  \n",
      "19              1.373221                               2               249  \n",
      "...                  ...                             ...               ...  \n",
      "48887           1.373221                               3               365  \n",
      "48889           1.373221                               2               163  \n",
      "48890           1.373221                               2                 9  \n",
      "48891           1.373221                               2                36  \n",
      "48893           1.373221                               6                 2  \n",
      "\n",
      "[16584 rows x 16 columns]\n"
     ]
    }
   ],
   "source": [
    "duplicate_hosts = df[df.duplicated(['host_id'], keep=False)]\n",
    "print(\"Duplicate host entries:\\n\", duplicate_hosts)"
   ]
  },
  {
   "cell_type": "code",
   "execution_count": 27,
   "id": "cea10035-ccd9-4f3a-9ada-8b123befd634",
   "metadata": {},
   "outputs": [
    {
     "name": "stdout",
     "output_type": "stream",
     "text": [
      "Unique neighbourhood groups:\n",
      " ['Brooklyn' 'Manhattan' 'Queens' 'Staten Island' 'Bronx']\n"
     ]
    }
   ],
   "source": [
    "unique_neighbourhood_groups = df['neighbourhood_group'].unique()\n",
    "print(\"Unique neighbourhood groups:\\n\", unique_neighbourhood_groups)"
   ]
  },
  {
   "cell_type": "markdown",
   "id": "2e21d092-b805-4439-af80-45971648d917",
   "metadata": {},
   "source": [
    "# Missing Data Handling"
   ]
  },
  {
   "cell_type": "code",
   "execution_count": 9,
   "id": "cf964695-0536-48a2-bcb9-3a73cdb92fc4",
   "metadata": {},
   "outputs": [
    {
     "name": "stdout",
     "output_type": "stream",
     "text": [
      "id                                    0\n",
      "name                                 16\n",
      "host_id                               0\n",
      "host_name                            21\n",
      "neighbourhood_group                   0\n",
      "neighbourhood                         0\n",
      "latitude                              0\n",
      "longitude                             0\n",
      "room_type                             0\n",
      "price                                 0\n",
      "minimum_nights                        0\n",
      "number_of_reviews                     0\n",
      "last_review                       10052\n",
      "reviews_per_month                 10052\n",
      "calculated_host_listings_count        0\n",
      "availability_365                      0\n",
      "dtype: int64\n"
     ]
    }
   ],
   "source": [
    "print(df.isnull().sum())"
   ]
  },
  {
   "cell_type": "code",
   "execution_count": 11,
   "id": "cbd0f073-91bd-4311-b38f-cc6cefa70be3",
   "metadata": {},
   "outputs": [],
   "source": [
    "df['last_review'] = pd.to_datetime(df['last_review'], format='%Y-%m-%d', errors='coerce')"
   ]
  },
  {
   "cell_type": "code",
   "execution_count": 14,
   "id": "2754caa3-0da9-43df-913d-15867ebc2ccc",
   "metadata": {},
   "outputs": [
    {
     "name": "stdout",
     "output_type": "stream",
     "text": [
      "<class 'pandas.core.series.Series'>\n",
      "RangeIndex: 48895 entries, 0 to 48894\n",
      "Series name: last_review\n",
      "Non-Null Count  Dtype         \n",
      "--------------  -----         \n",
      "38843 non-null  datetime64[ns]\n",
      "dtypes: datetime64[ns](1)\n",
      "memory usage: 382.1 KB\n",
      "None\n"
     ]
    }
   ],
   "source": [
    "print(df['last_review'].info())"
   ]
  },
  {
   "cell_type": "code",
   "execution_count": 15,
   "id": "cffae620-5088-40e4-b786-805f69a21f22",
   "metadata": {},
   "outputs": [],
   "source": [
    "df['reviews_per_month'].fillna(df['reviews_per_month'].mean(), inplace=True)"
   ]
  },
  {
   "cell_type": "code",
   "execution_count": 19,
   "id": "4d8deb70-1914-490a-9609-84a410e7cfb0",
   "metadata": {},
   "outputs": [
    {
     "name": "stdout",
     "output_type": "stream",
     "text": [
      "Value frequencies in last_review:\n",
      " last_review\n",
      "2019-06-23    1413\n",
      "2019-07-01    1359\n",
      "2019-06-30    1341\n",
      "2019-06-24     875\n",
      "2019-07-07     718\n",
      "              ... \n",
      "2012-12-25       1\n",
      "2013-10-01       1\n",
      "2014-05-29       1\n",
      "2014-04-19       1\n",
      "2018-03-29       1\n",
      "Name: count, Length: 1764, dtype: int64\n"
     ]
    }
   ],
   "source": [
    "value_counts = df['last_review'].value_counts()\n",
    "print(\"Value frequencies in last_review:\\n\", value_counts)"
   ]
  },
  {
   "cell_type": "code",
   "execution_count": 20,
   "id": "3c24dbd6-9efc-4aa6-b8e0-ced11a61559c",
   "metadata": {},
   "outputs": [],
   "source": [
    "most_common_value = value_counts.idxmax()\n",
    "df['last_review'].fillna(most_common_value, inplace=True)"
   ]
  },
  {
   "cell_type": "code",
   "execution_count": 21,
   "id": "2f971158-fa24-4b6a-be09-810beb040dc2",
   "metadata": {},
   "outputs": [
    {
     "name": "stdout",
     "output_type": "stream",
     "text": [
      "Number of missing values in last_review after filling: 0\n"
     ]
    }
   ],
   "source": [
    "missing_values_after = df['last_review'].isnull().sum()\n",
    "print(\"Number of missing values in last_review after filling:\", missing_values_after)"
   ]
  },
  {
   "cell_type": "code",
   "execution_count": 22,
   "id": "ee57b061-bbad-4520-95b4-ae1b32a0a4ef",
   "metadata": {},
   "outputs": [
    {
     "data": {
      "text/plain": [
       "id                                 0\n",
       "name                              16\n",
       "host_id                            0\n",
       "host_name                         21\n",
       "neighbourhood_group                0\n",
       "neighbourhood                      0\n",
       "latitude                           0\n",
       "longitude                          0\n",
       "room_type                          0\n",
       "price                              0\n",
       "minimum_nights                     0\n",
       "number_of_reviews                  0\n",
       "last_review                        0\n",
       "reviews_per_month                  0\n",
       "calculated_host_listings_count     0\n",
       "availability_365                   0\n",
       "dtype: int64"
      ]
     },
     "execution_count": 22,
     "metadata": {},
     "output_type": "execute_result"
    }
   ],
   "source": [
    "df.isnull(). sum()"
   ]
  },
  {
   "cell_type": "code",
   "execution_count": 23,
   "id": "7068f11d-e0b9-46d3-bcd1-9ba4ef943bb8",
   "metadata": {},
   "outputs": [],
   "source": [
    "df.dropna(inplace = True)"
   ]
  },
  {
   "cell_type": "code",
   "execution_count": 24,
   "id": "7fa92ff6-95c3-4a01-bd18-9492c1038962",
   "metadata": {},
   "outputs": [
    {
     "data": {
      "text/plain": [
       "id                                0\n",
       "name                              0\n",
       "host_id                           0\n",
       "host_name                         0\n",
       "neighbourhood_group               0\n",
       "neighbourhood                     0\n",
       "latitude                          0\n",
       "longitude                         0\n",
       "room_type                         0\n",
       "price                             0\n",
       "minimum_nights                    0\n",
       "number_of_reviews                 0\n",
       "last_review                       0\n",
       "reviews_per_month                 0\n",
       "calculated_host_listings_count    0\n",
       "availability_365                  0\n",
       "dtype: int64"
      ]
     },
     "execution_count": 24,
     "metadata": {},
     "output_type": "execute_result"
    }
   ],
   "source": [
    "df.isnull(). sum()"
   ]
  },
  {
   "cell_type": "markdown",
   "id": "61d04f51-bf7d-47b1-860e-3cf0c4eb34b8",
   "metadata": {},
   "source": [
    "# Remove Duplicate "
   ]
  },
  {
   "cell_type": "code",
   "execution_count": 31,
   "id": "f63260d6-dd5d-4253-9db9-4678639d27f1",
   "metadata": {},
   "outputs": [
    {
     "name": "stdout",
     "output_type": "stream",
     "text": [
      "Duplicate entries:\n",
      " Empty DataFrame\n",
      "Columns: [id, name, host_id, host_name, neighbourhood_group, neighbourhood, latitude, longitude, room_type, price, minimum_nights, number_of_reviews, last_review, reviews_per_month, calculated_host_listings_count, availability_365]\n",
      "Index: []\n"
     ]
    }
   ],
   "source": [
    "duplicates = df[df.duplicated(subset=['id', 'host_id'], keep=False)]\n",
    "print(\"Duplicate entries:\\n\", duplicates)"
   ]
  },
  {
   "cell_type": "code",
   "execution_count": 32,
   "id": "848828cb-b275-4cd8-88a0-c5140b51e777",
   "metadata": {},
   "outputs": [],
   "source": [
    "df.sort_values('last_review', ascending=False, inplace=True)\n",
    "df.drop_duplicates(subset=['id'], keep='first', inplace=True)"
   ]
  },
  {
   "cell_type": "code",
   "execution_count": 33,
   "id": "3adebe7a-43ea-4d0a-9d1e-29d1b6f464f5",
   "metadata": {},
   "outputs": [
    {
     "name": "stdout",
     "output_type": "stream",
     "text": [
      "Number of duplicates removed: 0\n"
     ]
    }
   ],
   "source": [
    "print(\"Number of duplicates removed:\", len(duplicates) - len(df[df.duplicated(subset=['id'], keep=False)]))"
   ]
  },
  {
   "cell_type": "markdown",
   "id": "cfd70503-d792-42f0-992f-38c740ecdb5c",
   "metadata": {},
   "source": [
    "# Standardization"
   ]
  },
  {
   "cell_type": "code",
   "execution_count": 35,
   "id": "23c265c1-61a0-4257-9786-66f3a7e03f50",
   "metadata": {},
   "outputs": [
    {
     "name": "stdout",
     "output_type": "stream",
     "text": [
      "44459    entire home/apt\n",
      "22469       private room\n",
      "36811    entire home/apt\n",
      "40012    entire home/apt\n",
      "46061    entire home/apt\n",
      "              ...       \n",
      "143         private room\n",
      "125         private room\n",
      "330         private room\n",
      "163         private room\n",
      "317         private room\n",
      "Name: room_type, Length: 48858, dtype: object\n"
     ]
    }
   ],
   "source": [
    "# Standardize room_type values\n",
    "df['room_type'] = df['room_type'].str.lower().str.strip()\n",
    "print(df['room_type'])"
   ]
  },
  {
   "cell_type": "code",
   "execution_count": 40,
   "id": "94cf0f39-ccbf-4859-9980-905e8882a5b4",
   "metadata": {},
   "outputs": [
    {
     "name": "stdout",
     "output_type": "stream",
     "text": [
      "44459    100\n",
      "22469     48\n",
      "36811     88\n",
      "40012     79\n",
      "46061    325\n",
      "        ... \n",
      "143      140\n",
      "125       90\n",
      "330      249\n",
      "163      250\n",
      "317       55\n",
      "Name: price, Length: 48858, dtype: int64\n"
     ]
    }
   ],
   "source": [
    "df['price'] = pd.to_numeric(df['price'].replace('','[\\$]', regex=True), errors='coerce')\n",
    "print(df['price'] )"
   ]
  },
  {
   "cell_type": "code",
   "execution_count": 42,
   "id": "e7e868d8-659d-4b9a-8098-05f0274cd259",
   "metadata": {},
   "outputs": [],
   "source": [
    "# Standardize minimum_nights to be non-negative\n",
    "df['minimum_nights'] = df['minimum_nights'].clip(lower=0)"
   ]
  },
  {
   "cell_type": "markdown",
   "id": "62c2ae8d-7502-428d-a842-014fbab1a025",
   "metadata": {},
   "source": [
    "# Outlier Detection"
   ]
  },
  {
   "cell_type": "code",
   "execution_count": 43,
   "id": "92fb0479-9df8-4b25-b68b-5f6ce3885696",
   "metadata": {},
   "outputs": [],
   "source": [
    "Q1 = df['price'].quantile(0.25)\n",
    "Q3 = df['price'].quantile(0.75)\n",
    "IQR = Q3 - Q1\n"
   ]
  },
  {
   "cell_type": "code",
   "execution_count": 44,
   "id": "a0aaf8ec-26e8-4436-b784-96e37f104ace",
   "metadata": {},
   "outputs": [],
   "source": [
    "lower_bound = Q1 - 1.5 * IQR\n",
    "upper_bound = Q3 + 1.5 * IQR\n"
   ]
  },
  {
   "cell_type": "code",
   "execution_count": 45,
   "id": "215fb533-0e2b-4db8-95e8-cc4193cf486e",
   "metadata": {},
   "outputs": [
    {
     "name": "stdout",
     "output_type": "stream",
     "text": [
      "Identified outliers:\n",
      "              id                                               name    host_id  \\\n",
      "46925  35491013     Cozy Apartment Located in Midtown/Times Square  267009547   \n",
      "34555  27398782      WeLive Wall Street -- Four Bedroom / Two Bath  159610596   \n",
      "48740  36413632         Spacious 2BR in Beautiful Brooklyn Heights    6608220   \n",
      "19241  15324045  TOWNHOUSE  (Backyard/Rooftop + Photoshoots/Eve...    9049657   \n",
      "9986    7679236          Belle Harbor 4 BR 2 bath- 1 bl from Beach   40327248   \n",
      "...         ...                                                ...        ...   \n",
      "3478    2082694                            Brand New 3BR Apartment   10638711   \n",
      "419      141890                         LUXURY SOHO 2 Bedroom Apt      689661   \n",
      "2698    1448703                Beautiful 1 Bedroom in Nolita/Soho      213266   \n",
      "1433     644464                 Loft Room in Heart of Williamsburg    3225114   \n",
      "1426     640589                     Sweet Super Bowl Accomodations    3198479   \n",
      "\n",
      "      host_name neighbourhood_group       neighbourhood  latitude  longitude  \\\n",
      "46925     Jerry           Manhattan      Hell's Kitchen  40.76430  -73.98760   \n",
      "34555    WeWork           Manhattan  Financial District  40.70448  -74.00615   \n",
      "48740      Matt            Brooklyn    Brooklyn Heights  40.69827  -73.99649   \n",
      "19241  Benjamin            Brooklyn            Bushwick  40.69003  -73.90891   \n",
      "9986     Sarina              Queens            Neponsit  40.57215  -73.85822   \n",
      "...         ...                 ...                 ...       ...        ...   \n",
      "3478      Corey            Brooklyn        Williamsburg  40.70958  -73.94287   \n",
      "419     Allison           Manhattan              Nolita  40.72255  -73.99346   \n",
      "2698    Jessica           Manhattan              Nolita  40.72193  -73.99379   \n",
      "1433       Ryan            Brooklyn        Williamsburg  40.71827  -73.96259   \n",
      "1426       Gina           Manhattan        West Village  40.73727  -74.00213   \n",
      "\n",
      "             room_type  price  minimum_nights  number_of_reviews last_review  \\\n",
      "46925  entire home/apt    395               3                  2  2019-07-07   \n",
      "34555  entire home/apt    525               1                 25  2019-07-07   \n",
      "48740  entire home/apt    550               3                  1  2019-07-07   \n",
      "19241  entire home/apt    390               1                131  2019-07-07   \n",
      "9986   entire home/apt    350               2                  5  2019-07-07   \n",
      "...                ...    ...             ...                ...         ...   \n",
      "3478   entire home/apt    700               3                  1  2014-01-02   \n",
      "419    entire home/apt    375               3                 18  2013-10-01   \n",
      "2698   entire home/apt   5000               1                  2  2013-09-28   \n",
      "1433      private room    350               2                  3  2012-09-23   \n",
      "1426   entire home/apt    700               5                  1  2012-09-18   \n",
      "\n",
      "       reviews_per_month  calculated_host_listings_count  availability_365  \n",
      "46925               2.00                               1               152  \n",
      "34555               2.53                               6               203  \n",
      "48740               1.00                               1               230  \n",
      "19241               4.11                               1               321  \n",
      "9986                2.88                               1               334  \n",
      "...                  ...                             ...               ...  \n",
      "3478                0.01                               1                 0  \n",
      "419                 0.21                               1                 0  \n",
      "2698                0.03                               1               365  \n",
      "1433                0.04                               1               365  \n",
      "1426                0.01                               1               365  \n",
      "\n",
      "[2971 rows x 16 columns]\n"
     ]
    }
   ],
   "source": [
    "outliers = df[(df['price'] < lower_bound) | (df['price'] > upper_bound)]\n",
    "print(\"Identified outliers:\\n\", outliers)"
   ]
  },
  {
   "cell_type": "code",
   "execution_count": 46,
   "id": "c080aa3e-60fa-441e-ab04-359b02692e10",
   "metadata": {},
   "outputs": [],
   "source": [
    "df = df[(df['price'] >= lower_bound) & (df['price'] <= upper_bound)]"
   ]
  },
  {
   "cell_type": "markdown",
   "id": "ad43e73c-fda5-4267-b2e6-c564e6b2b2d5",
   "metadata": {},
   "source": [
    "#  Geographical Data Validation"
   ]
  },
  {
   "cell_type": "code",
   "execution_count": 47,
   "id": "591a0e35-0128-4d3d-8d38-c5cc0d87bd5a",
   "metadata": {},
   "outputs": [
    {
     "name": "stdout",
     "output_type": "stream",
     "text": [
      "Invalid latitude entries:\n",
      "              id                               name   host_id host_name  \\\n",
      "14119  10830083  Beautiful well kept private home!  56078939      Tony   \n",
      "\n",
      "      neighbourhood_group neighbourhood  latitude  longitude     room_type  \\\n",
      "14119       Staten Island   Tottenville  40.49979  -74.24084  private room   \n",
      "\n",
      "       price  minimum_nights  number_of_reviews last_review  \\\n",
      "14119    110               2                  0  2019-06-23   \n",
      "\n",
      "       reviews_per_month  calculated_host_listings_count  availability_365  \n",
      "14119           1.373221                               1               364  \n",
      "Invalid longitude entries:\n",
      "              id                                               name    host_id  \\\n",
      "42831  33250984       Large private bedroom in prime West Village!  250374011   \n",
      "28041  21901025        house on the hill with free parking in NYC!    1483578   \n",
      "43699  33810599   Furnished modern studio luxury elevator building   28175069   \n",
      "42844  33265526  Sunset Park Retreat - 3 blocks from train stat...    5325489   \n",
      "1424     639199    Beautiful 4BR/4BA Home, Staten Island, NY City.    1483081   \n",
      "...         ...                                                ...        ...   \n",
      "429      148201                  NYC - Sunny Greenwich Village 1br     715807   \n",
      "777      278631                West Village NYC Sun-filled Studio!    1132207   \n",
      "2134     981410                   Sunny Studio in the West Village    5374768   \n",
      "783      281521                           Amazing West Village 2br      70614   \n",
      "924      344019                Best West Village/Meatpacking Space    1746209   \n",
      "\n",
      "         host_name neighbourhood_group       neighbourhood  latitude  \\\n",
      "42831         Lisa           Manhattan        West Village  40.73261   \n",
      "28041  Spiritchild       Staten Island          St. George  40.64537   \n",
      "43699       Leanne           Manhattan  Financial District  40.71138   \n",
      "42844        Julie            Brooklyn         Sunset Park  40.64997   \n",
      "1424        Marina       Staten Island         Tottenville  40.50868   \n",
      "...            ...                 ...                 ...       ...   \n",
      "429           John           Manhattan   Greenwich Village  40.72831   \n",
      "777       Cathryne           Manhattan        West Village  40.73729   \n",
      "2134         Maria           Manhattan        West Village  40.73331   \n",
      "783          Vimal           Manhattan        West Village  40.73879   \n",
      "924             R.           Manhattan        West Village  40.73104   \n",
      "\n",
      "       longitude        room_type  price  minimum_nights  number_of_reviews  \\\n",
      "42831  -74.01043     private room    120               2                 12   \n",
      "28041  -74.08381     private room    100               2                 77   \n",
      "43699  -74.00834  entire home/apt    160               4                  3   \n",
      "42844  -74.00626  entire home/apt    135               2                  9   \n",
      "1424   -74.23986  entire home/apt    299               3                 59   \n",
      "...          ...              ...    ...             ...                ...   \n",
      "429    -74.00177  entire home/apt    175               3                 18   \n",
      "777    -74.00807  entire home/apt    250              30                  7   \n",
      "2134   -74.00471  entire home/apt    170               4                  1   \n",
      "783    -74.00425  entire home/apt    200              27                  1   \n",
      "924    -74.00879     private room    195               1                  7   \n",
      "\n",
      "      last_review  reviews_per_month  calculated_host_listings_count  \\\n",
      "42831  2019-07-08               3.91                               1   \n",
      "28041  2019-07-08               3.90                               1   \n",
      "43699  2019-07-08               1.38                               1   \n",
      "42844  2019-07-08               5.19                               1   \n",
      "1424   2019-07-08               0.82                               1   \n",
      "...           ...                ...                             ...   \n",
      "429    2013-05-31               0.19                               1   \n",
      "777    2013-04-21               0.08                               1   \n",
      "2134   2013-04-09               0.01                               1   \n",
      "783    2012-10-02               0.01                               1   \n",
      "924    2012-06-07               0.08                               1   \n",
      "\n",
      "       availability_365  \n",
      "42831                35  \n",
      "28041               336  \n",
      "43699                 0  \n",
      "42844               266  \n",
      "1424                245  \n",
      "...                 ...  \n",
      "429                   0  \n",
      "777                  35  \n",
      "2134                273  \n",
      "783                   0  \n",
      "924                 129  \n",
      "\n",
      "[3142 rows x 16 columns]\n"
     ]
    }
   ],
   "source": [
    "invalid_lat = df[(df['latitude'] < 40.5) | (df['latitude'] > 45.0)]\n",
    "invalid_lon = df[(df['longitude'] < -74.0) | (df['longitude'] > -73.5)]\n",
    "\n",
    "print(\"Invalid latitude entries:\\n\", invalid_lat)\n",
    "print(\"Invalid longitude entries:\\n\", invalid_lon)"
   ]
  },
  {
   "cell_type": "code",
   "execution_count": 48,
   "id": "4407ee51-408b-4e60-8554-d95ba32cb729",
   "metadata": {},
   "outputs": [],
   "source": [
    "df = df[~((df['latitude'] < 40.5) | (df['latitude'] > 45.0) | \n",
    "           (df['longitude'] < -74.0) | (df['longitude'] > -73.5))]"
   ]
  },
  {
   "cell_type": "markdown",
   "id": "e6024eff-d1cb-4e04-992d-4310c82e9fe9",
   "metadata": {},
   "source": [
    "# Handling Categorical "
   ]
  },
  {
   "cell_type": "code",
   "execution_count": 49,
   "id": "d3cc68ff-ae44-4d66-8a99-f791af464c0c",
   "metadata": {},
   "outputs": [],
   "source": [
    "room_type_mapping = {\n",
    "    'entire home/apt': 'entire home',\n",
    "    'shared room': 'shared room',\n",
    "    'private room': 'private room'\n",
    "}"
   ]
  },
  {
   "cell_type": "code",
   "execution_count": 51,
   "id": "13ec5016-e809-4cb0-b228-b4d587197e36",
   "metadata": {},
   "outputs": [],
   "source": [
    "df['room_type'] = df['room_type'].replace(room_type_mapping)\n"
   ]
  },
  {
   "cell_type": "code",
   "execution_count": 52,
   "id": "5fc533ee-3f17-446f-9c32-1ccd813f0ebe",
   "metadata": {},
   "outputs": [],
   "source": [
    "room_type_counts = df['room_type'].value_counts()\n",
    "low_frequency_types = room_type_counts[room_type_counts < 50].index\n",
    "df['room_type'].replace(low_frequency_types, 'other', inplace=True)"
   ]
  }
 ],
 "metadata": {
  "kernelspec": {
   "display_name": "Python 3 (ipykernel)",
   "language": "python",
   "name": "python3"
  },
  "language_info": {
   "codemirror_mode": {
    "name": "ipython",
    "version": 3
   },
   "file_extension": ".py",
   "mimetype": "text/x-python",
   "name": "python",
   "nbconvert_exporter": "python",
   "pygments_lexer": "ipython3",
   "version": "3.11.7"
  }
 },
 "nbformat": 4,
 "nbformat_minor": 5
}
